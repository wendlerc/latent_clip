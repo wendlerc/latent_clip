{
 "cells": [
  {
   "cell_type": "code",
   "execution_count": 8,
   "metadata": {},
   "outputs": [],
   "source": [
    "import open_clip\n",
    "import torch\n",
    "from PIL import Image\n",
    "from matplotlib import pyplot as plt"
   ]
  },
  {
   "cell_type": "code",
   "execution_count": 15,
   "metadata": {},
   "outputs": [
    {
     "name": "stderr",
     "output_type": "stream",
     "text": [
      "Cannot initialize model with low cpu memory usage because `accelerate` was not found in the environment. Defaulting to `low_cpu_mem_usage=False`. It is strongly recommended to install `accelerate` for faster and less memory-intense model loading. You can do so with: \n",
      "```\n",
      "pip install accelerate\n",
      "```\n",
      ".\n"
     ]
    },
    {
     "name": "stdout",
     "output_type": "stream",
     "text": [
      "Label probs: tensor([[1.0072e-04, 9.9983e-01, 6.6763e-05]])\n",
      "Pred: a dog\n"
     ]
    }
   ],
   "source": [
    "models = {'B-8': {'model_name':'Latent-ViT-B-8-512',\n",
    "                  'pretrained':'/dlabdata1/wendler/models/latent-clip-b-8.pt'},\n",
    "          'B-4-plus':{'model_name':'Latent-ViT-B-4-512-plus',\n",
    "                      'pretrained':'/dlabdata1/wendler/models/latent-clip-b-4-plus.pt'}}\n",
    "size = 'B-8'\n",
    "model_name = models[size]['model_name']\n",
    "pretrained = models[size]['pretrained']\n",
    "model, _, preprocess = open_clip.create_model_and_transforms(model_name, pretrained=pretrained)\n",
    "tokenizer = open_clip.get_tokenizer(model_name)\n",
    "\n",
    "image = preprocess(Image.open(\"../CLIP.jpg\")).unsqueeze(0)\n",
    "labels = [\"a diagram\", \"a dog\", \"a cat\"]\n",
    "text = tokenizer(labels)\n",
    "\n",
    "with torch.no_grad(), torch.cuda.amp.autocast():\n",
    "    # you can either feed an image like here, or a SDXL latent of shape (batch_size, 64, 64, 4)\n",
    "    image_features = model.encode_image(image)\n",
    "    text_features = model.encode_text(text)\n",
    "    image_features /= image_features.norm(dim=-1, keepdim=True)\n",
    "    text_features /= text_features.norm(dim=-1, keepdim=True)\n",
    "\n",
    "    text_probs = (100.0 * image_features @ text_features.T).softmax(dim=-1)\n",
    "\n",
    "print(\"Label probs:\", text_probs)\n",
    "print(\"Pred:\", labels[text_probs.argmax()])  "
   ]
  },
  {
   "cell_type": "code",
   "execution_count": null,
   "metadata": {},
   "outputs": [],
   "source": []
  }
 ],
 "metadata": {
  "kernelspec": {
   "display_name": "lclip",
   "language": "python",
   "name": "python3"
  },
  "language_info": {
   "codemirror_mode": {
    "name": "ipython",
    "version": 3
   },
   "file_extension": ".py",
   "mimetype": "text/x-python",
   "name": "python",
   "nbconvert_exporter": "python",
   "pygments_lexer": "ipython3",
   "version": "3.11.8"
  },
  "orig_nbformat": 4
 },
 "nbformat": 4,
 "nbformat_minor": 2
}
