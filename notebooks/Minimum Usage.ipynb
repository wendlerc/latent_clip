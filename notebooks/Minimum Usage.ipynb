{
 "cells": [
  {
   "cell_type": "code",
   "execution_count": 1,
   "metadata": {},
   "outputs": [
    {
     "name": "stderr",
     "output_type": "stream",
     "text": [
      "/dlabscratch1/dlabscratch1/wendler/.lclip/lib/python3.11/site-packages/diffusers/utils/outputs.py:63: UserWarning: torch.utils._pytree._register_pytree_node is deprecated. Please use torch.utils._pytree.register_pytree_node instead.\n",
      "  torch.utils._pytree._register_pytree_node(\n"
     ]
    }
   ],
   "source": [
    "import open_clip\n",
    "import torch\n",
    "from PIL import Image\n",
    "from matplotlib import pyplot as plt"
   ]
  },
  {
   "cell_type": "markdown",
   "metadata": {},
   "source": [
    "# Classifying a single image"
   ]
  },
  {
   "cell_type": "code",
   "execution_count": 11,
   "metadata": {},
   "outputs": [
    {
     "name": "stdout",
     "output_type": "stream",
     "text": [
      "Label probs: tensor([[1.0111e-06, 1.0038e-02, 6.7027e-07, 9.4371e-01, 4.6246e-02]])\n",
      "Pred: two dogs\n"
     ]
    }
   ],
   "source": [
    "models = {'B-8': {'model_name':'Latent-ViT-B-8-512',\n",
    "                  'pretrained':'/dlabdata1/wendler/models/latent-clip-b-8.pt'},\n",
    "          'B-4-plus':{'model_name':'Latent-ViT-B-4-512-plus',\n",
    "                      'pretrained':'/dlabdata1/wendler/models/latent-clip-b-4-plus.pt'}}\n",
    "size = 'B-8'\n",
    "model_name = models[size]['model_name']\n",
    "pretrained = models[size]['pretrained']\n",
    "model, _, preprocess = open_clip.create_model_and_transforms(model_name, pretrained=pretrained)\n",
    "tokenizer = open_clip.get_tokenizer(model_name)\n",
    "\n",
    "image = preprocess(Image.open(\"../CLIP.jpg\")).unsqueeze(0)\n",
    "labels = [\"a diagram\", \"a dog\", \"a cat\", \"two dogs\", \"three dogs\"]\n",
    "text = tokenizer(labels)\n",
    "\n",
    "model.eval()\n",
    "with torch.no_grad(), torch.cuda.amp.autocast():\n",
    "    # you can either feed an image like here, or a SDXL latent of shape (batch_size, 64, 64, 4)\n",
    "    image_features = model.encode_image(image)\n",
    "    text_features = model.encode_text(text)\n",
    "    image_features /= image_features.norm(dim=-1, keepdim=True)\n",
    "    text_features /= text_features.norm(dim=-1, keepdim=True)\n",
    "\n",
    "    text_probs = (100.0 * image_features @ text_features.T).softmax(dim=-1)\n",
    "\n",
    "print(\"Label probs:\", text_probs)\n",
    "print(\"Pred:\", labels[text_probs.argmax()])  "
   ]
  },
  {
   "cell_type": "markdown",
   "metadata": {},
   "source": [
    "# Webdatasets"
   ]
  },
  {
   "cell_type": "code",
   "execution_count": 3,
   "metadata": {},
   "outputs": [],
   "source": [
    "import webdataset as wds\n",
    "from dataclasses import dataclass\n",
    "from training.data import get_wds_dataset\n",
    "\n",
    "@dataclass\n",
    "class Args:\n",
    "    dataset_type: str = \"webdataset-latent\"\n",
    "    val_data: str = \"/dlabdata1/wendler/data/laicoco-latents-sdxl-f8/aug/000/000/{000000..000081}.tar\"\n",
    "    val_num_samples: int = None\n",
    "    train_data: str = None\n",
    "    train_num_samples: int = None\n",
    "    seed: int = 42\n",
    "    batch_size: int = 128\n",
    "    workers: int = 1\n",
    "    world_size: int = 1\n",
    "    train_data_upsampling_factors: float = None \n",
    "\n",
    "args = Args()\n",
    "dataset = get_wds_dataset(args, lambda x: x, False, tokenizer=tokenizer)"
   ]
  },
  {
   "cell_type": "code",
   "execution_count": 9,
   "metadata": {},
   "outputs": [],
   "source": [
    "latents, captions = next(iter(dataset.dataloader))"
   ]
  },
  {
   "cell_type": "code",
   "execution_count": 15,
   "metadata": {},
   "outputs": [],
   "source": [
    "model.cuda()\n",
    "model.eval()\n",
    "with torch.no_grad(), torch.cuda.amp.autocast():\n",
    "    # you can either feed an image like here, or a SDXL latent of shape (batch_size, 64, 64, 4)\n",
    "    image_features = model.encode_image(latents.cuda().to(torch.bfloat16))\n",
    "    text_features = model.encode_text(captions.cuda())\n",
    "    image_features /= image_features.norm(dim=-1, keepdim=True)\n",
    "    text_features /= text_features.norm(dim=-1, keepdim=True)\n",
    "\n",
    "    text_probs = (100.0 * image_features @ text_features.T).softmax(dim=-1)"
   ]
  },
  {
   "cell_type": "code",
   "execution_count": 19,
   "metadata": {},
   "outputs": [
    {
     "data": {
      "image/png": "[encoded data removed]",
      "text/plain": [
       "<Figure size 640x480 with 1 Axes>"
      ]
     },
     "metadata": {},
     "output_type": "display_data"
    }
   ],
   "source": [
    "plt.imshow(text_probs.detach().cpu().numpy(), cmap='hot')\n",
    "plt.show()"
   ]
  }
 ],
 "metadata": {
  "kernelspec": {
   "display_name": "lclip",
   "language": "python",
   "name": "python3"
  },
  "language_info": {
   "codemirror_mode": {
    "name": "ipython",
    "version": 3
   },
   "file_extension": ".py",
   "mimetype": "text/x-python",
   "name": "python",
   "nbconvert_exporter": "python",
   "pygments_lexer": "ipython3",
   "version": "3.11.8"
  },
  "orig_nbformat": 4
 },
 "nbformat": 4,
 "nbformat_minor": 2
}
