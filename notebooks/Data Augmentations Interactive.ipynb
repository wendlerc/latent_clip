{
 "cells": [
  {
   "cell_type": "code",
   "execution_count": 1,
   "id": "86780899-b0d1-4da1-8e5f-b923e44d146e",
   "metadata": {},
   "outputs": [
    {
     "name": "stdout",
     "output_type": "stream",
     "text": [
      "Requirement already satisfied: timm in /Users/wendler/Documents/2023/code/open_clip/.env2/lib/python3.11/site-packages (0.9.7)\n",
      "Requirement already satisfied: matplotlib in /Users/wendler/Documents/2023/code/open_clip/.env2/lib/python3.11/site-packages (3.8.0)\n",
      "Requirement already satisfied: torch>=1.7 in /Users/wendler/Documents/2023/code/open_clip/.env2/lib/python3.11/site-packages (from timm) (2.0.1)\n",
      "Requirement already satisfied: torchvision in /Users/wendler/Documents/2023/code/open_clip/.env2/lib/python3.11/site-packages (from timm) (0.15.2)\n",
      "Requirement already satisfied: pyyaml in /Users/wendler/Documents/2023/code/open_clip/.env2/lib/python3.11/site-packages (from timm) (6.0.1)\n",
      "Requirement already satisfied: huggingface-hub in /Users/wendler/Documents/2023/code/open_clip/.env2/lib/python3.11/site-packages (from timm) (0.17.2)\n",
      "Requirement already satisfied: safetensors in /Users/wendler/Documents/2023/code/open_clip/.env2/lib/python3.11/site-packages (from timm) (0.3.3)\n",
      "Requirement already satisfied: contourpy>=1.0.1 in /Users/wendler/Documents/2023/code/open_clip/.env2/lib/python3.11/site-packages (from matplotlib) (1.1.1)\n",
      "Requirement already satisfied: cycler>=0.10 in /Users/wendler/Documents/2023/code/open_clip/.env2/lib/python3.11/site-packages (from matplotlib) (0.12.1)\n",
      "Requirement already satisfied: fonttools>=4.22.0 in /Users/wendler/Documents/2023/code/open_clip/.env2/lib/python3.11/site-packages (from matplotlib) (4.43.1)\n",
      "Requirement already satisfied: kiwisolver>=1.0.1 in /Users/wendler/Documents/2023/code/open_clip/.env2/lib/python3.11/site-packages (from matplotlib) (1.4.5)\n",
      "Requirement already satisfied: numpy<2,>=1.21 in /Users/wendler/Documents/2023/code/open_clip/.env2/lib/python3.11/site-packages (from matplotlib) (1.26.0)\n",
      "Requirement already satisfied: packaging>=20.0 in /Users/wendler/Documents/2023/code/open_clip/.env2/lib/python3.11/site-packages (from matplotlib) (23.1)\n",
      "Requirement already satisfied: pillow>=6.2.0 in /Users/wendler/Documents/2023/code/open_clip/.env2/lib/python3.11/site-packages (from matplotlib) (10.0.1)\n",
      "Requirement already satisfied: pyparsing>=2.3.1 in /Users/wendler/Documents/2023/code/open_clip/.env2/lib/python3.11/site-packages (from matplotlib) (3.1.1)\n",
      "Requirement already satisfied: python-dateutil>=2.7 in /Users/wendler/Documents/2023/code/open_clip/.env2/lib/python3.11/site-packages (from matplotlib) (2.8.2)\n",
      "Requirement already satisfied: six>=1.5 in /Users/wendler/Documents/2023/code/open_clip/.env2/lib/python3.11/site-packages (from python-dateutil>=2.7->matplotlib) (1.16.0)\n",
      "Requirement already satisfied: filelock in /Users/wendler/Documents/2023/code/open_clip/.env2/lib/python3.11/site-packages (from torch>=1.7->timm) (3.12.4)\n",
      "Requirement already satisfied: typing-extensions in /Users/wendler/Documents/2023/code/open_clip/.env2/lib/python3.11/site-packages (from torch>=1.7->timm) (4.8.0)\n",
      "Requirement already satisfied: sympy in /Users/wendler/Documents/2023/code/open_clip/.env2/lib/python3.11/site-packages (from torch>=1.7->timm) (1.12)\n",
      "Requirement already satisfied: networkx in /Users/wendler/Documents/2023/code/open_clip/.env2/lib/python3.11/site-packages (from torch>=1.7->timm) (3.1)\n",
      "Requirement already satisfied: jinja2 in /Users/wendler/Documents/2023/code/open_clip/.env2/lib/python3.11/site-packages (from torch>=1.7->timm) (3.1.2)\n",
      "Requirement already satisfied: fsspec in /Users/wendler/Documents/2023/code/open_clip/.env2/lib/python3.11/site-packages (from huggingface-hub->timm) (2023.9.2)\n",
      "Requirement already satisfied: requests in /Users/wendler/Documents/2023/code/open_clip/.env2/lib/python3.11/site-packages (from huggingface-hub->timm) (2.31.0)\n",
      "Requirement already satisfied: tqdm>=4.42.1 in /Users/wendler/Documents/2023/code/open_clip/.env2/lib/python3.11/site-packages (from huggingface-hub->timm) (4.66.1)\n",
      "Requirement already satisfied: MarkupSafe>=2.0 in /Users/wendler/Documents/2023/code/open_clip/.env2/lib/python3.11/site-packages (from jinja2->torch>=1.7->timm) (2.1.3)\n",
      "Requirement already satisfied: charset-normalizer<4,>=2 in /Users/wendler/Documents/2023/code/open_clip/.env2/lib/python3.11/site-packages (from requests->huggingface-hub->timm) (3.2.0)\n",
      "Requirement already satisfied: idna<4,>=2.5 in /Users/wendler/Documents/2023/code/open_clip/.env2/lib/python3.11/site-packages (from requests->huggingface-hub->timm) (3.4)\n",
      "Requirement already satisfied: urllib3<3,>=1.21.1 in /Users/wendler/Documents/2023/code/open_clip/.env2/lib/python3.11/site-packages (from requests->huggingface-hub->timm) (1.26.16)\n",
      "Requirement already satisfied: certifi>=2017.4.17 in /Users/wendler/Documents/2023/code/open_clip/.env2/lib/python3.11/site-packages (from requests->huggingface-hub->timm) (2023.7.22)\n",
      "Requirement already satisfied: mpmath>=0.19 in /Users/wendler/Documents/2023/code/open_clip/.env2/lib/python3.11/site-packages (from sympy->torch>=1.7->timm) (1.3.0)\n"
     ]
    }
   ],
   "source": [
    "!pip install timm matplotlib"
   ]
  },
  {
   "cell_type": "code",
   "execution_count": 2,
   "id": "83920c9f-4041-4d89-9a54-22d665fbee6a",
   "metadata": {},
   "outputs": [
    {
     "name": "stdout",
     "output_type": "stream",
     "text": [
      "  % Total    % Received % Xferd  Average Speed   Time    Time     Time  Current\n",
      "                                 Dload  Upload   Total   Spent    Left  Speed\n",
      "100  233k  100  233k    0     0  1171k      0 --:--:-- --:--:-- --:--:-- 1190k\n"
     ]
    }
   ],
   "source": [
    "!curl https://upload.wikimedia.org/wikipedia/commons/thumb/4/48/RedCat_8727.jpg/1200px-RedCat_8727.jpg -o cat.jpg"
   ]
  },
  {
   "cell_type": "code",
   "execution_count": 6,
   "id": "43fd5832-ed3d-4612-834c-a2356e3b24c5",
   "metadata": {},
   "outputs": [],
   "source": [
    "import sys\n",
    "sys.path.append('../src')\n",
    "# from open_clip.transform import image_transform\n",
    "from timm.data import create_transform\n",
    "\n",
    "from PIL import Image\n",
    "import numpy as np\n",
    "import matplotlib.pyplot as plt\n",
    "import ipywidgets as widgets\n",
    "from ipywidgets import interactive\n",
    "from IPython.display import display\n",
    "\n",
    "\n",
    "def make_grid(images, grid_size=(3, 3), padding=10):\n",
    "    \"\"\"\n",
    "    Create a grid of images.\n",
    "\n",
    "    :param images: List of PIL Image objects.\n",
    "    :param grid_size: Tuple indicating grid shape (rows, columns).\n",
    "    :param padding: Padding between images in grid.\n",
    "    :return: A single PIL Image object containing the grid.\n",
    "    \"\"\"\n",
    "    img_width, img_height = images[0].size\n",
    "\n",
    "    # Dimensions for the full grid image\n",
    "    grid_width = grid_size[1] * img_width + (grid_size[1] - 1) * padding\n",
    "    grid_height = grid_size[0] * img_height + (grid_size[0] - 1) * padding\n",
    "\n",
    "    # Create an empty white image to place the thumbnails onto\n",
    "    grid_image = Image.new('RGB', (grid_width, grid_height), color='white')\n",
    "\n",
    "    for idx, img in enumerate(images):\n",
    "        row = idx // grid_size[1]\n",
    "        col = idx % grid_size[1]\n",
    "        x = col * (img_width + padding)\n",
    "        y = row * (img_height + padding)\n",
    "        grid_image.paste(img, (x, y))\n",
    "    display(grid_image)"
   ]
  },
  {
   "cell_type": "code",
   "execution_count": 7,
   "id": "5cb6e608-7ee3-42af-9d2a-cb1c0cdb0bf0",
   "metadata": {},
   "outputs": [],
   "source": [
    "# Load the image using Pillow\n",
    "image = Image.open('cat.jpg')\n",
    "# Check if the image has an alpha channel\n",
    "if image.mode == 'RGBA':\n",
    "    r, g, b, a = image.split()\n",
    "    image = Image.merge('RGB', (r, g, b))"
   ]
  },
  {
   "cell_type": "code",
   "execution_count": 12,
   "id": "9701245a-3bc0-4dd2-8023-aa5fd5c9eef1",
   "metadata": {
    "scrolled": true
   },
   "outputs": [
    {
     "data": {
      "application/vnd.jupyter.widget-view+json": {
       "model_id": "847331774f284e298ff87f52a6521384",
       "version_major": 2,
       "version_minor": 0
      },
      "text/plain": [
       "interactive(children=(FloatSlider(value=0.66, description='Scale lower', max=2.0, step=0.01), FloatSlider(valu…"
      ]
     },
     "execution_count": 12,
     "metadata": {},
     "output_type": "execute_result"
    }
   ],
   "source": [
    "\n",
    "def plot_images(scale_lower=0.6, scale_upper=1.0, brightness=0.0, contrast=0.0, saturation=0.0, hue=0.0):\n",
    "    #t = image_transform(336, True, 0.5, 0.5, aug_cfg = {'use_timm': True, \n",
    "    #                                                   'scale': (scale_lower, scale_upper), \n",
    "    #                                                   'color_jitter': (brightness, contrast, saturation, hue)})\n",
    "\n",
    "    mean=0.5\n",
    "    std=0.5\n",
    "    image_size = 336\n",
    "    if not isinstance(mean, (list, tuple)):\n",
    "        mean = (mean,) * 3\n",
    "    if not isinstance(std, (list, tuple)):\n",
    "        std = (std,) * 3\n",
    "    if isinstance(image_size, (tuple, list)):\n",
    "        assert len(image_size) >= 2\n",
    "        input_size = (3,) + image_size[-2:]\n",
    "    else:\n",
    "        input_size = (3, image_size, image_size)\n",
    "\n",
    "    aug_cfg = {'scale': (scale_lower, scale_upper), \n",
    "               'color_jitter': (brightness, contrast, saturation, hue),\n",
    "               'interpolation': 'random',}\n",
    "    t = create_transform(\n",
    "                input_size=input_size,\n",
    "                is_training=True,\n",
    "                hflip=0.,\n",
    "                mean=mean,\n",
    "                std=std,\n",
    "                re_mode='pixel',\n",
    "                **aug_cfg,\n",
    "            )\n",
    "\n",
    "    \n",
    "    tensors = []\n",
    "    images = []\n",
    "    for _ in range(27):\n",
    "        tensor = t(image)\n",
    "        tensor = tensor.permute(1, 2, 0)\n",
    "        tensor = (tensor + 1)/2\n",
    "        tensor = (tensor * 255).byte()\n",
    "        pil_image = Image.fromarray(tensor.numpy())\n",
    "        tensors += [tensor]\n",
    "        images += [pil_image]\n",
    "\n",
    "    make_grid(images, (9, 3))\n",
    "\n",
    "# Create sliders\n",
    "brightness_slider = widgets.FloatSlider(min=0, max=1, step=0.01, value=0.25, description='Brightness')\n",
    "contrast_slider = widgets.FloatSlider(min=0, max=1, step=0.01, value=0.25, description='Contrast')\n",
    "saturation_slider = widgets.FloatSlider(min=0, max=1, step=0.01, value=0.25, description='Saturation')\n",
    "hue_slider = widgets.FloatSlider(min=0, max=0.5, step=0.001, value=0.033, description='Hue')\n",
    "scale_lower_slider = widgets.FloatSlider(min=0, max=2, step=0.01, value=0.66, description='Scale lower')\n",
    "scale_upper_slider = widgets.FloatSlider(min=0, max=2, step=0.01, value=1.0, description='Scale upper')\n",
    "\n",
    "# Interactive plot\n",
    "interactive_plot = interactive(plot_images,\n",
    "                               scale_lower=scale_lower_slider,\n",
    "                               scale_upper=scale_upper_slider,\n",
    "                               brightness=brightness_slider, \n",
    "                               contrast=contrast_slider, \n",
    "                               saturation=saturation_slider, \n",
    "                               hue=hue_slider)\n",
    "output = interactive_plot.children[-1]\n",
    "output.layout.height = '350px'\n",
    "interactive_plot\n",
    "\n",
    "# 0.66, 1, 0.2, 0.2, 0.2, 0.02 -> all look good\n",
    "# 0.66, 1, 0.25, 0.25, 0.25, 0.03 -> has some ugly ones"
   ]
  },
  {
   "cell_type": "code",
   "execution_count": null,
   "id": "5dc37c6b-ec19-4b2b-8d9b-66d8e89cb194",
   "metadata": {},
   "outputs": [],
   "source": []
  }
 ],
 "metadata": {
  "kernelspec": {
   "display_name": "Python 3 (ipykernel)",
   "language": "python",
   "name": "python3"
  },
  "language_info": {
   "codemirror_mode": {
    "name": "ipython",
    "version": 3
   },
   "file_extension": ".py",
   "mimetype": "text/x-python",
   "name": "python",
   "nbconvert_exporter": "python",
   "pygments_lexer": "ipython3",
   "version": "3.11.5"
  }
 },
 "nbformat": 4,
 "nbformat_minor": 5
}
